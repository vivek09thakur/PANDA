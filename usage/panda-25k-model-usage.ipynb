{
  "nbformat": 4,
  "nbformat_minor": 0,
  "metadata": {
    "colab": {
      "provenance": [],
      "gpuType": "T4",
      "authorship_tag": "ABX9TyOIcTJ3yde0E/PJwDcXsgrt",
      "include_colab_link": true
    },
    "kernelspec": {
      "name": "python3",
      "display_name": "Python 3"
    },
    "language_info": {
      "name": "python"
    },
    "accelerator": "GPU"
  },
  "cells": [
    {
      "cell_type": "markdown",
      "metadata": {
        "id": "view-in-github",
        "colab_type": "text"
      },
      "source": [
        "<a href=\"https://colab.research.google.com/github/vivek09thakur/PANDA/blob/main/PaNDA_25k_Model_Usage.ipynb\" target=\"_parent\"><img src=\"https://colab.research.google.com/assets/colab-badge.svg\" alt=\"Open In Colab\"/></a>"
      ]
    },
    {
      "cell_type": "markdown",
      "source": [
        "## **Usage of PaNDA_25K_2.5_LM**\n",
        ">  PaNDA (Paradgim-based artificial Neural Dailogue Agent),a medium sized LSTM language model trained on 25k Tokens with 2.5k Neurons designed for Text Generations, Text Completion.\n",
        "\n",
        "Currently this model is under its early and basic stage only trained on 25 tokens with 2.5 neurons.\n",
        "\n",
        "In this notebook I am going to show you how you can use my **Language Model** for text-generation or further development.\n",
        "\n",
        "\n",
        "---\n",
        "\n",
        "### **Getting Started**\n",
        "\n",
        "- **Clone the Repo**"
      ],
      "metadata": {
        "id": "1XGV3CTM7xaG"
      }
    },
    {
      "cell_type": "code",
      "source": [
        "!git clone https://github.com/vivek09thakur/PANDA.git\n",
        "!cd PANDA"
      ],
      "metadata": {
        "colab": {
          "base_uri": "https://localhost:8080/"
        },
        "id": "tkY-ZP_s8lAx",
        "outputId": "320a9b44-468f-4a28-ed1b-466af643d30e"
      },
      "execution_count": 6,
      "outputs": [
        {
          "output_type": "stream",
          "name": "stdout",
          "text": [
            "Cloning into 'PANDA'...\n",
            "remote: Enumerating objects: 246, done.\u001b[K\n",
            "remote: Counting objects: 100% (60/60), done.\u001b[K\n",
            "remote: Compressing objects: 100% (41/41), done.\u001b[K\n",
            "remote: Total 246 (delta 26), reused 47 (delta 17), pack-reused 186\u001b[K\n",
            "Receiving objects: 100% (246/246), 130.04 MiB | 31.06 MiB/s, done.\n",
            "Resolving deltas: 100% (109/109), done.\n"
          ]
        }
      ]
    },
    {
      "cell_type": "markdown",
      "source": [
        "- **Prepare your dataset**"
      ],
      "metadata": {
        "id": "V9miWjjd-XMH"
      }
    },
    {
      "cell_type": "code",
      "source": [],
      "metadata": {
        "id": "b1yi6hpNFmqc"
      },
      "execution_count": null,
      "outputs": []
    }
  ]
}