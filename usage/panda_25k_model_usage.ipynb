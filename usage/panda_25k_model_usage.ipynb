{
  "nbformat": 4,
  "nbformat_minor": 0,
  "metadata": {
    "colab": {
      "provenance": [],
      "gpuType": "T4",
      "mount_file_id": "1OKLuVKKbgF8fSOZwWDxpQnca2ewiCqPh",
      "authorship_tag": "ABX9TyNj9BAPQkvro4tlcVZRSIDY",
      "include_colab_link": true
    },
    "kernelspec": {
      "name": "python3",
      "display_name": "Python 3"
    },
    "language_info": {
      "name": "python"
    },
    "accelerator": "GPU"
  },
  "cells": [
    {
      "cell_type": "markdown",
      "metadata": {
        "id": "view-in-github",
        "colab_type": "text"
      },
      "source": [
        "<a href=\"https://colab.research.google.com/github/vivek09thakur/PANDA/blob/main/usage/panda_25k_model_usage.ipynb\" target=\"_parent\"><img src=\"https://colab.research.google.com/assets/colab-badge.svg\" alt=\"Open In Colab\"/></a>"
      ]
    },
    {
      "cell_type": "markdown",
      "source": [
        "## **Usage of PaNDA_25K_2.5_LM**\n",
        ">  PaNDA (Paradgim-based artificial Neural Dailogue Agent),a medium sized LSTM language model trained on 25k Tokens with 2.5k Neurons designed for Text Generations, Text Completion.\n",
        "\n",
        "Currently this model is under its early and basic stage only trained on 25 tokens with 2.5 neurons.\n",
        "\n",
        "In this notebook I am going to show you how you can use my **Language Model** for text-generation or further development.\n",
        "\n",
        "\n",
        "---\n",
        "\n",
        "### **Getting Started**\n",
        "\n",
        "- **Clone the repo**"
      ],
      "metadata": {
        "id": "1XGV3CTM7xaG"
      }
    },
    {
      "cell_type": "code",
      "source": [
        "!git clone https://github.com/vivek09thakur/PANDA.git\n",
        "!cd PANDA"
      ],
      "metadata": {
        "colab": {
          "base_uri": "https://localhost:8080/"
        },
        "id": "tkY-ZP_s8lAx",
        "outputId": "ac827cc9-305a-425c-cffc-28539cadb122"
      },
      "execution_count": 2,
      "outputs": [
        {
          "output_type": "stream",
          "name": "stdout",
          "text": [
            "Cloning into 'PANDA'...\n",
            "remote: Enumerating objects: 316, done.\u001b[K\n",
            "remote: Counting objects: 100% (130/130), done.\u001b[K\n",
            "remote: Compressing objects: 100% (83/83), done.\u001b[K\n",
            "remote: Total 316 (delta 65), reused 98 (delta 40), pack-reused 186\u001b[K\n",
            "Receiving objects: 100% (316/316), 130.11 MiB | 21.69 MiB/s, done.\n",
            "Resolving deltas: 100% (148/148), done.\n"
          ]
        }
      ]
    },
    {
      "cell_type": "markdown",
      "source": [
        "- **Train the model**"
      ],
      "metadata": {
        "id": "V9miWjjd-XMH"
      }
    },
    {
      "cell_type": "code",
      "source": [
        "!python /content/PANDA/main.py  --train --train_prompts=/content/PANDA/data/prompts.txt --epochs=2000"
      ],
      "metadata": {
        "colab": {
          "base_uri": "https://localhost:8080/"
        },
        "id": "rA4Nbgx1E_eu",
        "outputId": "1bf41fbe-ff36-4ae1-e8a6-e679e39802c4"
      },
      "execution_count": 4,
      "outputs": [
        {
          "output_type": "stream",
          "name": "stdout",
          "text": [
            "2024-05-13 23:37:56.300985: E external/local_xla/xla/stream_executor/cuda/cuda_dnn.cc:9261] Unable to register cuDNN factory: Attempting to register factory for plugin cuDNN when one has already been registered\n",
            "2024-05-13 23:37:56.301041: E external/local_xla/xla/stream_executor/cuda/cuda_fft.cc:607] Unable to register cuFFT factory: Attempting to register factory for plugin cuFFT when one has already been registered\n",
            "2024-05-13 23:37:56.302846: E external/local_xla/xla/stream_executor/cuda/cuda_blas.cc:1515] Unable to register cuBLAS factory: Attempting to register factory for plugin cuBLAS when one has already been registered\n",
            "2024-05-13 23:37:56.316396: I tensorflow/core/platform/cpu_feature_guard.cc:182] This TensorFlow binary is optimized to use available CPU instructions in performance-critical operations.\n",
            "To enable the following instructions: AVX2 FMA, in other operations, rebuild TensorFlow with the appropriate compiler flags.\n",
            "2024-05-13 23:37:58.084288: W tensorflow/compiler/tf2tensorrt/utils/py_utils.cc:38] TF-TRT Warning: Could not find TensorRT\n",
            "Traceback (most recent call last):\n",
            "  File \"/content/PANDA/main.py\", line 16, in <module>\n",
            "    trainer = TRAINER(args.train_prompts)\n",
            "  File \"/content/PANDA/main/train.py\", line 8, in __init__\n",
            "    DATA_PROCESSOR.__init__(self,prompts)\n",
            "  File \"/content/PANDA/main/data_processor.py\", line 9, in __init__\n",
            "    self.text_data = f1.readlines()\n",
            "  File \"/usr/lib/python3.10/codecs.py\", line 322, in decode\n",
            "    (result, consumed) = self._buffer_decode(data, self.errors, final)\n",
            "UnicodeDecodeError: 'utf-8' codec can't decode byte 0x9f in position 6021: invalid start byte\n"
          ]
        }
      ]
    },
    {
      "cell_type": "markdown",
      "source": [
        "- **Infer the model**"
      ],
      "metadata": {
        "id": "WraGmk-cRrXc"
      }
    },
    {
      "cell_type": "code",
      "source": [],
      "metadata": {
        "id": "l92-fs-GRwrX"
      },
      "execution_count": null,
      "outputs": []
    }
  ]
}