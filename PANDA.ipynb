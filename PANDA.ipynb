{
 "cells": [
  {
   "cell_type": "code",
   "execution_count": 1,
   "id": "355de001-5b79-490e-b0aa-8fff37bc8433",
   "metadata": {
    "tags": []
   },
   "outputs": [],
   "source": [
    "import numpy as np\n",
    "from tensorflow.keras.models import Sequential\n",
    "from tensorflow.keras.layers import Dense, LSTM, Embedding\n",
    "from tensorflow.keras.preprocessing.text import Tokenizer\n",
    "from tensorflow.keras.preprocessing.sequence import pad_sequences"
   ]
  },
  {
   "cell_type": "code",
   "execution_count": 2,
   "id": "fb88ec03-3b23-4004-9f89-8a735045f2c1",
   "metadata": {},
   "outputs": [],
   "source": [
    "text_data = [\n",
    "    \"Hello!\",\n",
    "    \"How are you doing?\",\n",
    "    \"What is your name?\",\n",
    "    \"Where are you from?\"\n",
    "]"
   ]
  },
  {
   "cell_type": "code",
   "execution_count": 3,
   "id": "c46c0e1d-8c6f-47bf-b136-be1ea6a68956",
   "metadata": {},
   "outputs": [],
   "source": [
    "tokenizer = Tokenizer()\n",
    "tokenizer.fit_on_texts(text_data)\n",
    "total_words = len(tokenizer.word_index) + 1"
   ]
  },
  {
   "cell_type": "code",
   "execution_count": 4,
   "id": "7a3b8bde-46ec-482e-9683-2372b0ec4871",
   "metadata": {},
   "outputs": [],
   "source": [
    "input_sequences = []\n",
    "next_words = []\n",
    "for line in text_data:\n",
    "    token_list = tokenizer.texts_to_sequences([line])[0]\n",
    "    for i in range(1, len(token_list)):\n",
    "        n_gram_sequence = token_list[:i+1]\n",
    "        input_sequences.append(n_gram_sequence[:-1])\n",
    "        next_words.append(n_gram_sequence[-1])"
   ]
  },
  {
   "cell_type": "code",
   "execution_count": 5,
   "id": "f2c93b78-c88b-418a-a39a-51cda48068b3",
   "metadata": {
    "tags": []
   },
   "outputs": [],
   "source": [
    "max_sequence_len = max([len(seq) for seq in input_sequences])\n",
    "input_sequences = np.array(pad_sequences(input_sequences, maxlen=max_sequence_len, padding='pre'))"
   ]
  },
  {
   "cell_type": "code",
   "execution_count": 6,
   "id": "e4dea2af-f89c-4a26-b056-48c88a3f1d47",
   "metadata": {
    "tags": []
   },
   "outputs": [],
   "source": [
    "predictors, label = input_sequences[:, :-1], input_sequences[:, -1]"
   ]
  },
  {
   "cell_type": "code",
   "execution_count": null,
   "id": "9a5841de-58c7-4c90-83ff-6716bd0c95c2",
   "metadata": {
    "tags": []
   },
   "outputs": [
    {
     "name": "stdout",
     "output_type": "stream",
     "text": [
      "Epoch 1/600\n"
     ]
    }
   ],
   "source": [
    "# Build the model\n",
    "model = Sequential()\n",
    "model.add(Embedding(total_words, 10, input_length=max_sequence_len-1))\n",
    "model.add(LSTM(100))\n",
    "model.add(Dense(total_words, activation='softmax'))\n",
    "model.compile(loss='sparse_categorical_crossentropy', optimizer='adam', metrics=['accuracy'])\n",
    "model.fit(predictors, label, epochs=600, verbose=1)"
   ]
  },
  {
   "cell_type": "code",
   "execution_count": null,
   "id": "9168557a-6338-4308-bbef-6f905d87b298",
   "metadata": {
    "tags": []
   },
   "outputs": [],
   "source": [
    "def predict_next_word(seed_text):\n",
    "    token_list = tokenizer.texts_to_sequences([seed_text])[0]\n",
    "    token_list = pad_sequences([token_list], maxlen=max_sequence_len-1, padding='pre')\n",
    "    predicted = model.predict(token_list, verbose=0)\n",
    "    predicted_index = np.argmax(predicted)  # Get the index with the highest probability\n",
    "    predicted_word = \"\"\n",
    "    for word, index in tokenizer.word_index.items():\n",
    "        if index == predicted_index:\n",
    "            predicted_word = word\n",
    "            break\n",
    "    return predicted_word"
   ]
  },
  {
   "cell_type": "code",
   "execution_count": null,
   "id": "1432441e-e692-42ce-afd9-9392c08ef522",
   "metadata": {},
   "outputs": [],
   "source": [
    "print('I\\'m PANDA ,Paradigm-based Artificial Neural Dialogue Agent , A Language Model which is able to predict next words')"
   ]
  },
  {
   "cell_type": "code",
   "execution_count": null,
   "id": "ea2f7014-b681-4d0e-9e62-113875b072aa",
   "metadata": {
    "tags": []
   },
   "outputs": [],
   "source": [
    "while True:\n",
    "    user_input = input(\"user > \")\n",
    "    response = predict_next_word(user_input)\n",
    "    print(\"next word > > \", response)"
   ]
  }
 ],
 "metadata": {
  "kernelspec": {
   "display_name": "Python 3 (ipykernel)",
   "language": "python",
   "name": "python3"
  },
  "language_info": {
   "codemirror_mode": {
    "name": "ipython",
    "version": 3
   },
   "file_extension": ".py",
   "mimetype": "text/x-python",
   "name": "python",
   "nbconvert_exporter": "python",
   "pygments_lexer": "ipython3",
   "version": "3.10.0"
  }
 },
 "nbformat": 4,
 "nbformat_minor": 5
}
